{
  "nbformat": 4,
  "nbformat_minor": 0,
  "metadata": {
    "colab": {
      "name": "AllGuests.ipynb",
      "provenance": [],
      "authorship_tag": "ABX9TyOgInjJTYvgYnupbLQTbhf+",
      "include_colab_link": true
    },
    "kernelspec": {
      "name": "python3",
      "display_name": "Python 3"
    }
  },
  "cells": [
    {
      "cell_type": "markdown",
      "metadata": {
        "id": "view-in-github",
        "colab_type": "text"
      },
      "source": [
        "<a href=\"https://colab.research.google.com/github/parth1800/personal_projects/blob/main/AllGuests.ipynb\" target=\"_parent\"><img src=\"https://colab.research.google.com/assets/colab-badge.svg\" alt=\"Open In Colab\"/></a>"
      ]
    },
    {
      "cell_type": "code",
      "metadata": {
        "id": "F4p_bpX0flLn",
        "colab": {
          "base_uri": "https://localhost:8080/"
        },
        "outputId": "01ff69f1-afa9-4ad0-b2ad-1cc7052537a5"
      },
      "source": [
        "# allGuests = {'Alice': {'apples': 14, 'pretzels': 18}, 'Bob': {'ham sandwiches': 23, 'apples': 8}, 'Carol': {'cups': 1, 'apple pies': 63}}\n",
        "\n",
        "# def totalBrought(guests, item):\n",
        "#   numBrought = 0\n",
        "#   for k, v in guests.items():\n",
        "#     numBrought = numBrought + v.get(item,0)\n",
        "#   return numBrought\n",
        "\n",
        "# print('Number of things being brought: ')\n",
        "# print(' - Apples    ' + str(totalBrought(allGuests, 'apples')))\n",
        "# print(' - Cups    ' + str(totalBrought(allGuests, 'cups')))\n",
        "# print(' - Cakes    ' + str(totalBrought(allGuests, 'cakes')))\n",
        "# print(' - Ham Sandwiches    ' + str(totalBrought(allGuests, 'ham sandwiches')))\n",
        "# print(' - Apple Pies   ' + str(totalBrought(allGuests, 'apple pies')))\n",
        "\n",
        "#Escape Characters\n",
        "print(\"Hello there!\\nHow are you?\\nI\\'m doing fine.\")"
      ],
      "execution_count": 1,
      "outputs": [
        {
          "output_type": "stream",
          "text": [
            "Hello there!\n",
            "How are you?\n",
            "I'm doing fine.\n"
          ],
          "name": "stdout"
        }
      ]
    }
  ]
}