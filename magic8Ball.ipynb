{
  "nbformat": 4,
  "nbformat_minor": 0,
  "metadata": {
    "colab": {
      "name": "magic8Ball.ipynb",
      "provenance": [],
      "collapsed_sections": [],
      "authorship_tag": "ABX9TyPM5i2FLSrHbhBj4/jjP2JS",
      "include_colab_link": true
    },
    "kernelspec": {
      "name": "python3",
      "display_name": "Python 3"
    }
  },
  "cells": [
    {
      "cell_type": "markdown",
      "metadata": {
        "id": "view-in-github",
        "colab_type": "text"
      },
      "source": [
        "<a href=\"https://colab.research.google.com/github/parth1800/personal_projects/blob/main/magic8Ball.ipynb\" target=\"_parent\"><img src=\"https://colab.research.google.com/assets/colab-badge.svg\" alt=\"Open In Colab\"/></a>"
      ]
    },
    {
      "cell_type": "code",
      "metadata": {
        "colab": {
          "base_uri": "https://localhost:8080/"
        },
        "id": "OKWHTdB1Cpwt",
        "outputId": "661b1229-50af-46fe-b4bf-ce49b8c1d1cc"
      },
      "source": [
        "import random\n",
        "\n",
        "def getAnswer(answerNumber):\n",
        "  if answerNumber == 1:\n",
        "    return 'It is certain'\n",
        "  elif answerNumber == 2:\n",
        "    return 'It is decidely so'\n",
        "  elif answerNumber == 3:\n",
        "    return 'Yes'\n",
        "  elif answerNumber == 4:\n",
        "    return 'Reply hazy try again'\n",
        "  elif answerNumber == 5:\n",
        "    return 'Ask again later'\n",
        "  elif answerNumber == 6:\n",
        "    return 'Concentrate and ask again'\n",
        "  elif answerNumber == 7:\n",
        "    return 'My reply is no'\n",
        "  elif answerNumber == 8:\n",
        "    return 'Outlook not so good'\n",
        "  elif answerNumber == 9:\n",
        "    return 'Very doubtful'\n",
        "\n",
        "r = random.randint(1,9)\n",
        "fortune = getAnswer(r)\n",
        "print(fortune)"
      ],
      "execution_count": null,
      "outputs": [
        {
          "output_type": "stream",
          "text": [
            "Yes\n"
          ],
          "name": "stdout"
        }
      ]
    }
  ]
}