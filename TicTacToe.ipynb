{
  "nbformat": 4,
  "nbformat_minor": 0,
  "metadata": {
    "colab": {
      "name": "TicTacToe.ipynb",
      "provenance": [],
      "authorship_tag": "ABX9TyMKRO4SxeLF2qm+CeZX6pqY",
      "include_colab_link": true
    },
    "kernelspec": {
      "name": "python3",
      "display_name": "Python 3"
    }
  },
  "cells": [
    {
      "cell_type": "markdown",
      "metadata": {
        "id": "view-in-github",
        "colab_type": "text"
      },
      "source": [
        "<a href=\"https://colab.research.google.com/github/parth1800/personal_projects/blob/main/TicTacToe.ipynb\" target=\"_parent\"><img src=\"https://colab.research.google.com/assets/colab-badge.svg\" alt=\"Open In Colab\"/></a>"
      ]
    },
    {
      "cell_type": "code",
      "metadata": {
        "colab": {
          "base_uri": "https://localhost:8080/"
        },
        "id": "GsbWSA8yjZd8",
        "outputId": "776fb20d-7178-46ca-f6dc-f93e93698117"
      },
      "source": [
        "theBoard = {'top-L':'', 'top-M':'', 'top-R':'', 'mid-L':'', 'mid-M':'', 'mid-R':'', 'low-L':'', 'low-M':'', 'low-R':''}\n",
        "\n",
        "def printBoard(board):\n",
        "  print(board['top-L']+ 'I'+ board['top-M']+ 'I' + board['top-R'])\n",
        "  print('-+-+-')\n",
        "  print(board['mid-L']+ 'I'+ board['mid-M']+ 'I' + board['mid-R'])\n",
        "  print('-+-+-')\n",
        "  print(board['low-L']+ 'I'+ board['low-M']+ 'I' + board['low-R'])\n",
        "turn = 'X'\n",
        "for i in range(9):\n",
        "  printBoard(theBoard)\n",
        "  print('Turn for ' + turn + ' .Move on which space?')\n",
        "  move = input()\n",
        "  theBoard[move] = turn\n",
        "  if turn == 'X':\n",
        "    turn = 'O'\n",
        "  else:\n",
        "    turn = 'X'\n",
        "printBoard(theBoard)"
      ],
      "execution_count": null,
      "outputs": [
        {
          "output_type": "stream",
          "text": [
            "II\n",
            "-+-+-\n",
            "II\n",
            "-+-+-\n",
            "II\n",
            "Turn for X .Move on which space?\n"
          ],
          "name": "stdout"
        }
      ]
    }
  ]
}