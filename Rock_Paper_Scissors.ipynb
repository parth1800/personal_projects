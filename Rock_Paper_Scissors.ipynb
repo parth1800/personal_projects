{
  "nbformat": 4,
  "nbformat_minor": 0,
  "metadata": {
    "colab": {
      "name": "Rock_Paper_Scissors.ipynb",
      "provenance": [],
      "authorship_tag": "ABX9TyOJwDz8iYNkRzx4EZsraNKf",
      "include_colab_link": true
    },
    "kernelspec": {
      "name": "python3",
      "display_name": "Python 3"
    }
  },
  "cells": [
    {
      "cell_type": "markdown",
      "metadata": {
        "id": "view-in-github",
        "colab_type": "text"
      },
      "source": [
        "<a href=\"https://colab.research.google.com/github/parth1800/personal_projects/blob/main/Rock_Paper_Scissors.ipynb\" target=\"_parent\"><img src=\"https://colab.research.google.com/assets/colab-badge.svg\" alt=\"Open In Colab\"/></a>"
      ]
    },
    {
      "cell_type": "code",
      "metadata": {
        "id": "oltWD0dfFcFt"
      },
      "source": [
        "import random, sys\n",
        "\n",
        "print('ROCK,PAPER,SCISSORS')\n",
        "\n",
        "#These variables keep track of the number of wins, losses, and ties\n",
        "wins = 0\n",
        "losses = 0\n",
        "ties = 0 \n",
        "\n",
        "#The main game loop\n",
        "while True:\n",
        "  print('%s Wins, %s Losses, %s Ties'%(wins,losses,ties))\n",
        "  while True:\n",
        "    print('Enter your move: (r)ock, (p)aper, (s)cissors, or (q)uit')\n",
        "    playerMove = input()\n",
        "    if playerMove == 'q':\n",
        "      sys.exit() #Quit the program\n",
        "    if playerMove == 'r' or playerMove == 'p' or playerMove == 's':\n",
        "      break\n",
        "    print(\"Type one of r, p, s, or q\")\n",
        "\n",
        "  #Display what the player chose:\n",
        "  if playerMove == 'r':\n",
        "    print('ROCK versus...')\n",
        "  elif playerMove == 'p':\n",
        "    print('PAPER versus...')\n",
        "  elif playerMove == 's':\n",
        "    print('SCISSORS versus...')\n",
        "\n",
        "  #Display what the computer chose:\n",
        "  randomNumber = random.randint(1,3)\n",
        "  if randomNumber == 1:\n",
        "    computerMove = 'r'\n",
        "    print('ROCK')\n",
        "  elif randomNumber == 2:\n",
        "    computerMove = 'p'\n",
        "    print('PAPER')\n",
        "  elif randomNumber == 3:\n",
        "    computerMove = 's'\n",
        "    print('SCISSORS')\n",
        "\n",
        "  #Display and record wins, losses, ties\n",
        "  if playerMove == computerMove:\n",
        "    print(\"It's a tie!\")\n",
        "    ties = ties + 1\n",
        "  elif playerMove == 'r' and computerMove == 's':\n",
        "    print(\"You win!\")\n",
        "    wins = wins + 1\n",
        "  elif playerMove == 's' and computerMove == 'p':\n",
        "    print(\"You win!\")\n",
        "    wins = wins + 1\n",
        "  elif playerMove == 'p' and computerMove == 'r':\n",
        "    print(\"You win!\")\n",
        "    wins = wins + 1\n",
        "  elif playerMove == 'r' and computerMove == 'p':\n",
        "    print(\"You lose!\")\n",
        "    losses = losses + 1\n",
        "  elif playerMove == 'p' and computerMove == 's':\n",
        "    print(\"You lose!\")\n",
        "    losses = losses + 1\n",
        "  elif playerMove == 's' and computerMove == 'r':\n",
        "    print(\"You lose!\")\n",
        "    losses = losses + 1\n"
      ],
      "execution_count": null,
      "outputs": []
    }
  ]
}